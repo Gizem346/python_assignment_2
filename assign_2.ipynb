{
 "cells": [
  {
   "cell_type": "code",
   "execution_count": 1,
   "metadata": {
    "tags": []
   },
   "outputs": [
    {
     "output_type": "stream",
     "name": "stdout",
     "text": "Please answers just Yes or No to all questions.\nYou are not in risky group.\n"
    }
   ],
   "source": [
    "print(\"Please answers just Yes or No to all questions.\")\n",
    "age = input(\"Are you a cigarette addict older than 75 years old?: \") == \"Yes\"\n",
    "chronic = input(\"Do you have a severe chronic disease?: \") == \"Yes\"\n",
    "immune = input(\"Is your immune system too weak?: \") == \"Yes\"\n",
    "risk = age and chronic and immune\n",
    "if risk == True:\n",
    "    print(\"You are in risky group.\")\n",
    "elif risk != True:\n",
    "    print(\"You are not in risky group.\")\n"
   ]
  },
  {
   "cell_type": "code",
   "execution_count": null,
   "metadata": {},
   "outputs": [],
   "source": []
  }
 ],
 "metadata": {
  "language_info": {
   "codemirror_mode": {
    "name": "ipython",
    "version": 3
   },
   "file_extension": ".py",
   "mimetype": "text/x-python",
   "name": "python",
   "nbconvert_exporter": "python",
   "pygments_lexer": "ipython3",
   "version": 3
  },
  "orig_nbformat": 2,
  "kernelspec": {
   "name": "python_defaultSpec_1594212807518",
   "display_name": "Python 3.8.3 32-bit"
  }
 },
 "nbformat": 4,
 "nbformat_minor": 2
}